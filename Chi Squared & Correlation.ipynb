{
 "cells": [
  {
   "cell_type": "code",
   "execution_count": 1,
   "id": "34e06013",
   "metadata": {},
   "outputs": [],
   "source": [
    "import numpy as np\n",
    "import pandas as pd\n",
    "import matplotlib.pyplot as plt\n",
    "import seaborn as sns\n",
    "from scipy.stats import chi2\n",
    "from scipy.stats import chisquare"
   ]
  },
  {
   "cell_type": "code",
   "execution_count": 2,
   "id": "5a3fba5c",
   "metadata": {},
   "outputs": [],
   "source": [
    "observed = pd.Series([28,22])\n",
    "expected = pd.Series([25,25])"
   ]
  },
  {
   "cell_type": "code",
   "execution_count": 6,
   "id": "f7a17e8f",
   "metadata": {},
   "outputs": [],
   "source": [
    "chi_stat, p_value = chisquare(observed,expected)"
   ]
  },
  {
   "cell_type": "code",
   "execution_count": 8,
   "id": "bc650e77",
   "metadata": {},
   "outputs": [],
   "source": [
    "critical_point = chi2.ppf(0.95,df=1)"
   ]
  },
  {
   "cell_type": "code",
   "execution_count": 10,
   "id": "e84185af",
   "metadata": {},
   "outputs": [
    {
     "name": "stdout",
     "output_type": "stream",
     "text": [
      "Fail to Reject H0\n"
     ]
    }
   ],
   "source": [
    "if p_value < critical_point:\n",
    "    print('Fail to Reject H0')\n",
    "else:\n",
    "    print('Reject H0')"
   ]
  },
  {
   "cell_type": "code",
   "execution_count": 11,
   "id": "f6d60b72",
   "metadata": {},
   "outputs": [],
   "source": [
    "df_aerofit = pd.read_csv('C:/Users/htc/Downloads/aerofit.csv')"
   ]
  },
  {
   "cell_type": "code",
   "execution_count": 12,
   "id": "6fc587ac",
   "metadata": {},
   "outputs": [
    {
     "data": {
      "text/html": [
       "<div>\n",
       "<style scoped>\n",
       "    .dataframe tbody tr th:only-of-type {\n",
       "        vertical-align: middle;\n",
       "    }\n",
       "\n",
       "    .dataframe tbody tr th {\n",
       "        vertical-align: top;\n",
       "    }\n",
       "\n",
       "    .dataframe thead th {\n",
       "        text-align: right;\n",
       "    }\n",
       "</style>\n",
       "<table border=\"1\" class=\"dataframe\">\n",
       "  <thead>\n",
       "    <tr style=\"text-align: right;\">\n",
       "      <th></th>\n",
       "      <th>Product</th>\n",
       "      <th>Age</th>\n",
       "      <th>Gender</th>\n",
       "      <th>Education</th>\n",
       "      <th>MaritalStatus</th>\n",
       "      <th>Usage</th>\n",
       "      <th>Fitness</th>\n",
       "      <th>Income</th>\n",
       "      <th>Miles</th>\n",
       "    </tr>\n",
       "  </thead>\n",
       "  <tbody>\n",
       "    <tr>\n",
       "      <th>0</th>\n",
       "      <td>KP281</td>\n",
       "      <td>18</td>\n",
       "      <td>Male</td>\n",
       "      <td>14</td>\n",
       "      <td>Single</td>\n",
       "      <td>3</td>\n",
       "      <td>4</td>\n",
       "      <td>29562</td>\n",
       "      <td>112</td>\n",
       "    </tr>\n",
       "    <tr>\n",
       "      <th>1</th>\n",
       "      <td>KP281</td>\n",
       "      <td>19</td>\n",
       "      <td>Male</td>\n",
       "      <td>15</td>\n",
       "      <td>Single</td>\n",
       "      <td>2</td>\n",
       "      <td>3</td>\n",
       "      <td>31836</td>\n",
       "      <td>75</td>\n",
       "    </tr>\n",
       "    <tr>\n",
       "      <th>2</th>\n",
       "      <td>KP281</td>\n",
       "      <td>19</td>\n",
       "      <td>Female</td>\n",
       "      <td>14</td>\n",
       "      <td>Partnered</td>\n",
       "      <td>4</td>\n",
       "      <td>3</td>\n",
       "      <td>30699</td>\n",
       "      <td>66</td>\n",
       "    </tr>\n",
       "    <tr>\n",
       "      <th>3</th>\n",
       "      <td>KP281</td>\n",
       "      <td>19</td>\n",
       "      <td>Male</td>\n",
       "      <td>12</td>\n",
       "      <td>Single</td>\n",
       "      <td>3</td>\n",
       "      <td>3</td>\n",
       "      <td>32973</td>\n",
       "      <td>85</td>\n",
       "    </tr>\n",
       "    <tr>\n",
       "      <th>4</th>\n",
       "      <td>KP281</td>\n",
       "      <td>20</td>\n",
       "      <td>Male</td>\n",
       "      <td>13</td>\n",
       "      <td>Partnered</td>\n",
       "      <td>4</td>\n",
       "      <td>2</td>\n",
       "      <td>35247</td>\n",
       "      <td>47</td>\n",
       "    </tr>\n",
       "  </tbody>\n",
       "</table>\n",
       "</div>"
      ],
      "text/plain": [
       "  Product  Age  Gender  Education MaritalStatus  Usage  Fitness  Income  Miles\n",
       "0   KP281   18    Male         14        Single      3        4   29562    112\n",
       "1   KP281   19    Male         15        Single      2        3   31836     75\n",
       "2   KP281   19  Female         14     Partnered      4        3   30699     66\n",
       "3   KP281   19    Male         12        Single      3        3   32973     85\n",
       "4   KP281   20    Male         13     Partnered      4        2   35247     47"
      ]
     },
     "execution_count": 12,
     "metadata": {},
     "output_type": "execute_result"
    }
   ],
   "source": [
    "df_aerofit.head()"
   ]
  },
  {
   "cell_type": "markdown",
   "id": "e9d7bbed",
   "metadata": {},
   "source": [
    "# Correlation"
   ]
  },
  {
   "cell_type": "code",
   "execution_count": 17,
   "id": "7970420c",
   "metadata": {},
   "outputs": [
    {
     "data": {
      "text/plain": [
       "<Axes: xlabel='Income', ylabel='Miles'>"
      ]
     },
     "execution_count": 17,
     "metadata": {},
     "output_type": "execute_result"
    },
    {
     "data": {
      "image/png": "[encoded data removed]",
      "text/plain": [
       "<Figure size 640x480 with 1 Axes>"
      ]
     },
     "metadata": {},
     "output_type": "display_data"
    }
   ],
   "source": [
    "sns.scatterplot(x = 'Income', y = 'Miles', data = df_aerofit)"
   ]
  },
  {
   "cell_type": "code",
   "execution_count": 22,
   "id": "e9c57005",
   "metadata": {},
   "outputs": [],
   "source": [
    "from scipy.stats import ttest_ind"
   ]
  },
  {
   "cell_type": "code",
   "execution_count": 23,
   "id": "2bb174da",
   "metadata": {},
   "outputs": [],
   "source": [
    "before = pd.Series([2.45, 0.69, 1.80, 2.80, 0.07, 1.67, 2.93, 0.47, 1.45, 1.34])   \n",
    "\n",
    "after = pd.Series([7.71, 2.17, 5.65, 8.79, 0.23, 5.23, 9.19, 1.49, 4.56, 4.20]) "
   ]
  },
  {
   "cell_type": "code",
   "execution_count": 37,
   "id": "3fa485b3",
   "metadata": {},
   "outputs": [],
   "source": [
    "t_stat, p_value = ttest_ind(before,after,alternative = 'less')"
   ]
  },
  {
   "cell_type": "code",
   "execution_count": 38,
   "id": "966b7558",
   "metadata": {},
   "outputs": [
    {
     "name": "stdout",
     "output_type": "stream",
     "text": [
      "0.0019189832768118106\n",
      "Reject H0\n"
     ]
    }
   ],
   "source": [
    "print(p_value)\n",
    "if p_value < 0.05:\n",
    "    print('Reject H0')\n",
    "else:\n",
    "    print('Fail to Reject H0')"
   ]
  },
  {
   "cell_type": "code",
   "execution_count": 39,
   "id": "aec3cf56",
   "metadata": {},
   "outputs": [
    {
     "data": {
      "text/plain": [
       "1.567"
      ]
     },
     "execution_count": 39,
     "metadata": {},
     "output_type": "execute_result"
    }
   ],
   "source": [
    "before.mean()"
   ]
  },
  {
   "cell_type": "code",
   "execution_count": 40,
   "id": "14e6e6bd",
   "metadata": {},
   "outputs": [
    {
     "data": {
      "text/plain": [
       "4.922000000000001"
      ]
     },
     "execution_count": 40,
     "metadata": {},
     "output_type": "execute_result"
    }
   ],
   "source": [
    "after.mean()"
   ]
  },
  {
   "cell_type": "code",
   "execution_count": 42,
   "id": "fcaa8f4f",
   "metadata": {},
   "outputs": [],
   "source": [
    "wt_before=pd.Series([85, 74, 63.5, 69.4, 71.6, 65,90,78])\n",
    "\n",
    "wt_after=pd.Series([82, 71, 64, 65.2, 67.8, 64.7,95,77])"
   ]
  },
  {
   "cell_type": "code",
   "execution_count": 51,
   "id": "2cbb44d1",
   "metadata": {},
   "outputs": [],
   "source": [
    "t_stat, p_value = ttest_ind(wt_after,wt_before,alternative = 'less')"
   ]
  },
  {
   "cell_type": "code",
   "execution_count": 52,
   "id": "78ea68a7",
   "metadata": {},
   "outputs": [
    {
     "name": "stdout",
     "output_type": "stream",
     "text": [
      "0.406002393132636\n",
      "Fail to Reject H0\n"
     ]
    }
   ],
   "source": [
    "print(p_value)\n",
    "if p_value < 0.05:\n",
    "    print('Reject H0')\n",
    "else:\n",
    "    print('Fail to Reject H0')"
   ]
  },
  {
   "cell_type": "code",
   "execution_count": 53,
   "id": "2a4488d8",
   "metadata": {},
   "outputs": [
    {
     "data": {
      "text/plain": [
       "74.5625"
      ]
     },
     "execution_count": 53,
     "metadata": {},
     "output_type": "execute_result"
    }
   ],
   "source": [
    "wt_before.mean()"
   ]
  },
  {
   "cell_type": "code",
   "execution_count": 54,
   "id": "222e69bf",
   "metadata": {},
   "outputs": [
    {
     "data": {
      "text/plain": [
       "73.3375"
      ]
     },
     "execution_count": 54,
     "metadata": {},
     "output_type": "execute_result"
    }
   ],
   "source": [
    "wt_after.mean()"
   ]
  },
  {
   "cell_type": "code",
   "execution_count": null,
   "id": "27e04562",
   "metadata": {},
   "outputs": [],
   "source": []
  }
 ],
 "metadata": {
  "kernelspec": {
   "display_name": "Python 3 (ipykernel)",
   "language": "python",
   "name": "python3"
  },
  "language_info": {
   "codemirror_mode": {
    "name": "ipython",
    "version": 3
   },
   "file_extension": ".py",
   "mimetype": "text/x-python",
   "name": "python",
   "nbconvert_exporter": "python",
   "pygments_lexer": "ipython3",
   "version": "3.11.2"
  }
 },
 "nbformat": 4,
 "nbformat_minor": 5
}
