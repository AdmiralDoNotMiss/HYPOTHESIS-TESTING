{
 "cells": [
  {
   "cell_type": "code",
   "execution_count": 2,
   "id": "e2be1922",
   "metadata": {},
   "outputs": [],
   "source": [
    "import numpy as np\n",
    "import pandas as pd\n",
    "from scipy.stats import norm\n",
    "from scipy.stats import ttest_1samp, ttest_ind"
   ]
  },
  {
   "cell_type": "code",
   "execution_count": 10,
   "id": "6116e469",
   "metadata": {},
   "outputs": [],
   "source": [
    "df = pd.read_csv(\"C:/Users/htc/Downloads/Sachin_ODI.csv\")"
   ]
  },
  {
   "cell_type": "code",
   "execution_count": 3,
   "id": "5d5ddef8",
   "metadata": {},
   "outputs": [
    {
     "data": {
      "text/html": [
       "<div>\n",
       "<style scoped>\n",
       "    .dataframe tbody tr th:only-of-type {\n",
       "        vertical-align: middle;\n",
       "    }\n",
       "\n",
       "    .dataframe tbody tr th {\n",
       "        vertical-align: top;\n",
       "    }\n",
       "\n",
       "    .dataframe thead th {\n",
       "        text-align: right;\n",
       "    }\n",
       "</style>\n",
       "<table border=\"1\" class=\"dataframe\">\n",
       "  <thead>\n",
       "    <tr style=\"text-align: right;\">\n",
       "      <th></th>\n",
       "      <th>runs</th>\n",
       "      <th>NotOut</th>\n",
       "      <th>mins</th>\n",
       "      <th>bf</th>\n",
       "      <th>fours</th>\n",
       "      <th>sixes</th>\n",
       "      <th>sr</th>\n",
       "      <th>Inns</th>\n",
       "      <th>Opp</th>\n",
       "      <th>Ground</th>\n",
       "      <th>Date</th>\n",
       "      <th>Winner</th>\n",
       "      <th>Won</th>\n",
       "      <th>century</th>\n",
       "    </tr>\n",
       "  </thead>\n",
       "  <tbody>\n",
       "    <tr>\n",
       "      <th>0</th>\n",
       "      <td>13</td>\n",
       "      <td>0</td>\n",
       "      <td>30</td>\n",
       "      <td>15</td>\n",
       "      <td>3</td>\n",
       "      <td>0</td>\n",
       "      <td>86.66</td>\n",
       "      <td>1</td>\n",
       "      <td>New Zealand</td>\n",
       "      <td>Napier</td>\n",
       "      <td>1995-02-16</td>\n",
       "      <td>New Zealand</td>\n",
       "      <td>False</td>\n",
       "      <td>False</td>\n",
       "    </tr>\n",
       "    <tr>\n",
       "      <th>1</th>\n",
       "      <td>37</td>\n",
       "      <td>0</td>\n",
       "      <td>75</td>\n",
       "      <td>51</td>\n",
       "      <td>3</td>\n",
       "      <td>1</td>\n",
       "      <td>72.54</td>\n",
       "      <td>2</td>\n",
       "      <td>South Africa</td>\n",
       "      <td>Hamilton</td>\n",
       "      <td>1995-02-18</td>\n",
       "      <td>South Africa</td>\n",
       "      <td>False</td>\n",
       "      <td>False</td>\n",
       "    </tr>\n",
       "    <tr>\n",
       "      <th>2</th>\n",
       "      <td>47</td>\n",
       "      <td>0</td>\n",
       "      <td>65</td>\n",
       "      <td>40</td>\n",
       "      <td>7</td>\n",
       "      <td>0</td>\n",
       "      <td>117.50</td>\n",
       "      <td>2</td>\n",
       "      <td>Australia</td>\n",
       "      <td>Dunedin</td>\n",
       "      <td>1995-02-22</td>\n",
       "      <td>India</td>\n",
       "      <td>True</td>\n",
       "      <td>False</td>\n",
       "    </tr>\n",
       "    <tr>\n",
       "      <th>3</th>\n",
       "      <td>48</td>\n",
       "      <td>0</td>\n",
       "      <td>37</td>\n",
       "      <td>30</td>\n",
       "      <td>9</td>\n",
       "      <td>1</td>\n",
       "      <td>160.00</td>\n",
       "      <td>2</td>\n",
       "      <td>Bangladesh</td>\n",
       "      <td>Sharjah</td>\n",
       "      <td>1995-04-05</td>\n",
       "      <td>India</td>\n",
       "      <td>True</td>\n",
       "      <td>False</td>\n",
       "    </tr>\n",
       "    <tr>\n",
       "      <th>4</th>\n",
       "      <td>4</td>\n",
       "      <td>0</td>\n",
       "      <td>13</td>\n",
       "      <td>9</td>\n",
       "      <td>1</td>\n",
       "      <td>0</td>\n",
       "      <td>44.44</td>\n",
       "      <td>2</td>\n",
       "      <td>Pakistan</td>\n",
       "      <td>Sharjah</td>\n",
       "      <td>1995-04-07</td>\n",
       "      <td>Pakistan</td>\n",
       "      <td>False</td>\n",
       "      <td>False</td>\n",
       "    </tr>\n",
       "  </tbody>\n",
       "</table>\n",
       "</div>"
      ],
      "text/plain": [
       "   runs  NotOut mins  bf  fours  sixes      sr  Inns           Opp    Ground  \\\n",
       "0    13       0   30  15      3      0   86.66     1   New Zealand    Napier   \n",
       "1    37       0   75  51      3      1   72.54     2  South Africa  Hamilton   \n",
       "2    47       0   65  40      7      0  117.50     2     Australia   Dunedin   \n",
       "3    48       0   37  30      9      1  160.00     2    Bangladesh   Sharjah   \n",
       "4     4       0   13   9      1      0   44.44     2      Pakistan   Sharjah   \n",
       "\n",
       "         Date        Winner    Won  century  \n",
       "0  1995-02-16   New Zealand  False    False  \n",
       "1  1995-02-18  South Africa  False    False  \n",
       "2  1995-02-22         India   True    False  \n",
       "3  1995-04-05         India   True    False  \n",
       "4  1995-04-07      Pakistan  False    False  "
      ]
     },
     "execution_count": 3,
     "metadata": {},
     "output_type": "execute_result"
    }
   ],
   "source": [
    "df.head()"
   ]
  },
  {
   "cell_type": "code",
   "execution_count": 7,
   "id": "3f692059",
   "metadata": {},
   "outputs": [
    {
     "data": {
      "text/plain": [
       "43.24166666666667"
      ]
     },
     "execution_count": 7,
     "metadata": {},
     "output_type": "execute_result"
    }
   ],
   "source": [
    "mu = df['runs'].mean()\n",
    "mu"
   ]
  },
  {
   "cell_type": "code",
   "execution_count": 10,
   "id": "ffca0cb0",
   "metadata": {},
   "outputs": [
    {
     "data": {
      "text/plain": [
       "42.18245206052441"
      ]
     },
     "execution_count": 10,
     "metadata": {},
     "output_type": "execute_result"
    }
   ],
   "source": [
    "sigma = df['runs'].std()\n",
    "sigma "
   ]
  },
  {
   "cell_type": "code",
   "execution_count": 19,
   "id": "87b94fb4",
   "metadata": {},
   "outputs": [],
   "source": [
    "first_innings_score = df.loc[df['Inns']==1][['runs']]"
   ]
  },
  {
   "cell_type": "code",
   "execution_count": 56,
   "id": "81393ac6",
   "metadata": {},
   "outputs": [],
   "source": [
    "data = first_innings_score"
   ]
  },
  {
   "cell_type": "code",
   "execution_count": 57,
   "id": "be12192c",
   "metadata": {},
   "outputs": [],
   "source": [
    "# Null hypothesis : His first innings score is no better than the overall score.\n",
    "# Alternate hypothesis : His first innings score is better than the overall score."
   ]
  },
  {
   "cell_type": "code",
   "execution_count": 58,
   "id": "ef081adf",
   "metadata": {},
   "outputs": [
    {
     "data": {
      "text/plain": [
       "runs    46.670588\n",
       "dtype: float64"
      ]
     },
     "execution_count": 58,
     "metadata": {},
     "output_type": "execute_result"
    }
   ],
   "source": [
    "data.mean()"
   ]
  },
  {
   "cell_type": "code",
   "execution_count": 59,
   "id": "cec8e306",
   "metadata": {},
   "outputs": [],
   "source": [
    "z_stat = (data.mean()-mu)/(sigma/np.sqrt(len(data)))"
   ]
  },
  {
   "cell_type": "code",
   "execution_count": 60,
   "id": "0809c00c",
   "metadata": {},
   "outputs": [
    {
     "data": {
      "text/plain": [
       "runs    1.059864\n",
       "dtype: float64"
      ]
     },
     "execution_count": 60,
     "metadata": {},
     "output_type": "execute_result"
    }
   ],
   "source": [
    "z_stat"
   ]
  },
  {
   "cell_type": "code",
   "execution_count": 61,
   "id": "ca430403",
   "metadata": {},
   "outputs": [
    {
     "data": {
      "text/plain": [
       "array([0.14460321])"
      ]
     },
     "execution_count": 61,
     "metadata": {},
     "output_type": "execute_result"
    }
   ],
   "source": [
    "p_value = 1-norm.cdf(z_stat)\n",
    "p_value"
   ]
  },
  {
   "cell_type": "code",
   "execution_count": 62,
   "id": "5335c55a",
   "metadata": {},
   "outputs": [],
   "source": [
    "alpha = 0.05"
   ]
  },
  {
   "cell_type": "code",
   "execution_count": 63,
   "id": "9867b1e1",
   "metadata": {},
   "outputs": [
    {
     "name": "stdout",
     "output_type": "stream",
     "text": [
      "Fail to reject Null Hypothesis\n"
     ]
    }
   ],
   "source": [
    "if p_value < alpha:\n",
    "    print('Reject Null Hypothesis')\n",
    "else:\n",
    "    print('Fail to reject Null Hypothesis')"
   ]
  },
  {
   "cell_type": "markdown",
   "id": "0a49cb17",
   "metadata": {},
   "source": [
    "# His scoring pattern in Victory"
   ]
  },
  {
   "cell_type": "code",
   "execution_count": 52,
   "id": "399d99ba",
   "metadata": {},
   "outputs": [
    {
     "data": {
      "text/html": [
       "<div>\n",
       "<style scoped>\n",
       "    .dataframe tbody tr th:only-of-type {\n",
       "        vertical-align: middle;\n",
       "    }\n",
       "\n",
       "    .dataframe tbody tr th {\n",
       "        vertical-align: top;\n",
       "    }\n",
       "\n",
       "    .dataframe thead th {\n",
       "        text-align: right;\n",
       "    }\n",
       "</style>\n",
       "<table border=\"1\" class=\"dataframe\">\n",
       "  <thead>\n",
       "    <tr style=\"text-align: right;\">\n",
       "      <th></th>\n",
       "      <th>runs</th>\n",
       "    </tr>\n",
       "  </thead>\n",
       "  <tbody>\n",
       "    <tr>\n",
       "      <th>2</th>\n",
       "      <td>47</td>\n",
       "    </tr>\n",
       "    <tr>\n",
       "      <th>3</th>\n",
       "      <td>48</td>\n",
       "    </tr>\n",
       "    <tr>\n",
       "      <th>5</th>\n",
       "      <td>112</td>\n",
       "    </tr>\n",
       "    <tr>\n",
       "      <th>6</th>\n",
       "      <td>41</td>\n",
       "    </tr>\n",
       "    <tr>\n",
       "      <th>8</th>\n",
       "      <td>39</td>\n",
       "    </tr>\n",
       "  </tbody>\n",
       "</table>\n",
       "</div>"
      ],
      "text/plain": [
       "   runs\n",
       "2    47\n",
       "3    48\n",
       "5   112\n",
       "6    41\n",
       "8    39"
      ]
     },
     "execution_count": 52,
     "metadata": {},
     "output_type": "execute_result"
    }
   ],
   "source": [
    "data = df.loc[df['Won'] == True][['runs']]\n",
    "data.head()"
   ]
  },
  {
   "cell_type": "code",
   "execution_count": 53,
   "id": "13dfe82b",
   "metadata": {},
   "outputs": [
    {
     "data": {
      "text/plain": [
       "runs    51.0\n",
       "dtype: float64"
      ]
     },
     "execution_count": 53,
     "metadata": {},
     "output_type": "execute_result"
    }
   ],
   "source": [
    "data.mean()"
   ]
  },
  {
   "cell_type": "code",
   "execution_count": 54,
   "id": "db93ee2c",
   "metadata": {},
   "outputs": [
    {
     "data": {
      "text/plain": [
       "runs    2.494856\n",
       "dtype: float64"
      ]
     },
     "execution_count": 54,
     "metadata": {},
     "output_type": "execute_result"
    }
   ],
   "source": [
    "z_stat = (data.mean()-mu)/(sigma/np.sqrt(len(data)))\n",
    "z_stat"
   ]
  },
  {
   "cell_type": "code",
   "execution_count": 55,
   "id": "b18326fb",
   "metadata": {},
   "outputs": [
    {
     "data": {
      "text/plain": [
       "array([0.00630041])"
      ]
     },
     "execution_count": 55,
     "metadata": {},
     "output_type": "execute_result"
    }
   ],
   "source": [
    "p_value = 1-norm.cdf(z_stat)\n",
    "p_value"
   ]
  },
  {
   "cell_type": "code",
   "execution_count": 46,
   "id": "7b93dd79",
   "metadata": {},
   "outputs": [
    {
     "name": "stdout",
     "output_type": "stream",
     "text": [
      "Reject Null Hypothesis\n"
     ]
    }
   ],
   "source": [
    "if p_value < alpha:\n",
    "    print('Reject Null Hypothesis')\n",
    "else:\n",
    "    print('Fail to reject Null Hypothesis')"
   ]
  },
  {
   "cell_type": "code",
   "execution_count": 70,
   "id": "9e259100",
   "metadata": {},
   "outputs": [
    {
     "data": {
      "text/plain": [
       "0.01888567447570836"
      ]
     },
     "execution_count": 70,
     "metadata": {},
     "output_type": "execute_result"
    }
   ],
   "source": [
    "norm.cdf(-2.077327431147614)"
   ]
  },
  {
   "cell_type": "markdown",
   "id": "fcaed922",
   "metadata": {},
   "source": []
  },
  {
   "cell_type": "code",
   "execution_count": 71,
   "id": "48295751",
   "metadata": {},
   "outputs": [
    {
     "data": {
      "text/plain": [
       "2.077327431147614"
      ]
     },
     "execution_count": 71,
     "metadata": {},
     "output_type": "execute_result"
    }
   ],
   "source": [
    "(6-5.41)/(1.1/np.sqrt(15))"
   ]
  },
  {
   "cell_type": "code",
   "execution_count": 72,
   "id": "514f1c10",
   "metadata": {},
   "outputs": [
    {
     "data": {
      "text/plain": [
       "0.039119201499735363"
      ]
     },
     "execution_count": 72,
     "metadata": {},
     "output_type": "execute_result"
    }
   ],
   "source": [
    "norm.cdf(-1.761)"
   ]
  },
  {
   "cell_type": "code",
   "execution_count": 73,
   "id": "65e63df7",
   "metadata": {},
   "outputs": [],
   "source": [
    "x = 6 + (-1.761*(1.1/np.sqrt(15)))"
   ]
  },
  {
   "cell_type": "code",
   "execution_count": 74,
   "id": "4cd6231e",
   "metadata": {},
   "outputs": [
    {
     "data": {
      "text/plain": [
       "5.499842930670774"
      ]
     },
     "execution_count": 74,
     "metadata": {},
     "output_type": "execute_result"
    }
   ],
   "source": [
    "x"
   ]
  },
  {
   "cell_type": "code",
   "execution_count": 75,
   "id": "c87e7227",
   "metadata": {},
   "outputs": [
    {
     "data": {
      "text/plain": [
       "-1.2770270270270263"
      ]
     },
     "execution_count": 75,
     "metadata": {},
     "output_type": "execute_result"
    }
   ],
   "source": [
    "(77.4-90)/(29.6/np.sqrt(9))"
   ]
  },
  {
   "cell_type": "code",
   "execution_count": 76,
   "id": "f3a09370",
   "metadata": {},
   "outputs": [
    {
     "data": {
      "text/plain": [
       "1.6431676725155"
      ]
     },
     "execution_count": 76,
     "metadata": {},
     "output_type": "execute_result"
    }
   ],
   "source": [
    "(1.85-1.7)/(0.5/np.sqrt(30))"
   ]
  },
  {
   "cell_type": "code",
   "execution_count": 78,
   "id": "b508c9cf",
   "metadata": {},
   "outputs": [
    {
     "data": {
      "text/plain": [
       "2.007984063681781"
      ]
     },
     "execution_count": 78,
     "metadata": {},
     "output_type": "execute_result"
    }
   ],
   "source": [
    "(530-500)/(125/np.sqrt(70))"
   ]
  },
  {
   "cell_type": "code",
   "execution_count": 79,
   "id": "e24e0457",
   "metadata": {},
   "outputs": [
    {
     "data": {
      "text/plain": [
       "3.6335677938559874"
      ]
     },
     "execution_count": 79,
     "metadata": {},
     "output_type": "execute_result"
    }
   ],
   "source": [
    "3.5+(1.28*(0.7/np.sqrt(45)))"
   ]
  },
  {
   "cell_type": "code",
   "execution_count": 83,
   "id": "91ae9664",
   "metadata": {},
   "outputs": [
    {
     "data": {
      "text/plain": [
       "2.007984063681781"
      ]
     },
     "execution_count": 83,
     "metadata": {},
     "output_type": "execute_result"
    }
   ],
   "source": [
    "(30)/(125/np.sqrt(70))\n",
    "\n"
   ]
  },
  {
   "cell_type": "markdown",
   "id": "67516950",
   "metadata": {},
   "source": [
    "## Improve IQ"
   ]
  },
  {
   "cell_type": "code",
   "execution_count": 3,
   "id": "939d335d",
   "metadata": {},
   "outputs": [],
   "source": [
    "iq_scores = [110,105,98,102,99,104,115,95]"
   ]
  },
  {
   "cell_type": "code",
   "execution_count": 4,
   "id": "7baf2025",
   "metadata": {},
   "outputs": [
    {
     "data": {
      "text/plain": [
       "103.5"
      ]
     },
     "execution_count": 4,
     "metadata": {},
     "output_type": "execute_result"
    }
   ],
   "source": [
    "np.mean(iq_scores)"
   ]
  },
  {
   "cell_type": "markdown",
   "id": "505fa334",
   "metadata": {},
   "source": [
    "H0: mu = 100\n",
    "Ha: mu >100"
   ]
  },
  {
   "cell_type": "code",
   "execution_count": 5,
   "id": "01f274c8",
   "metadata": {},
   "outputs": [],
   "source": [
    "alpha = 0.01"
   ]
  },
  {
   "cell_type": "code",
   "execution_count": 6,
   "id": "c788f7e8",
   "metadata": {},
   "outputs": [
    {
     "data": {
      "text/plain": [
       "TtestResult(statistic=1.5071573172061195, pvalue=0.1754994493585011, df=7)"
      ]
     },
     "execution_count": 6,
     "metadata": {},
     "output_type": "execute_result"
    }
   ],
   "source": [
    "ttest_1samp(iq_scores,100)"
   ]
  },
  {
   "cell_type": "code",
   "execution_count": 7,
   "id": "09bab1c7",
   "metadata": {},
   "outputs": [],
   "source": [
    "t_stat,p_value = ttest_1samp(iq_scores,100)"
   ]
  },
  {
   "cell_type": "code",
   "execution_count": 8,
   "id": "f6c2cdf5",
   "metadata": {},
   "outputs": [
    {
     "data": {
      "text/plain": [
       "(1.5071573172061195, 0.1754994493585011)"
      ]
     },
     "execution_count": 8,
     "metadata": {},
     "output_type": "execute_result"
    }
   ],
   "source": [
    "t_stat,p_value"
   ]
  },
  {
   "cell_type": "code",
   "execution_count": 9,
   "id": "665f009a",
   "metadata": {},
   "outputs": [
    {
     "name": "stdout",
     "output_type": "stream",
     "text": [
      "Fail to Reject H0\n"
     ]
    }
   ],
   "source": [
    "if p_value < alpha:\n",
    "    print('Reject H0')\n",
    "else:\n",
    "    print('Fail to Reject H0')"
   ]
  },
  {
   "cell_type": "markdown",
   "id": "a056658e",
   "metadata": {},
   "source": [
    "# First innings vs second innings"
   ]
  },
  {
   "cell_type": "code",
   "execution_count": 11,
   "id": "450ad754",
   "metadata": {},
   "outputs": [],
   "source": [
    "df_first_innings = df.loc[df['Inns']==1][['runs']]"
   ]
  },
  {
   "cell_type": "code",
   "execution_count": 12,
   "id": "306b60ff",
   "metadata": {},
   "outputs": [
    {
     "data": {
      "text/plain": [
       "runs    46.670588\n",
       "dtype: float64"
      ]
     },
     "execution_count": 12,
     "metadata": {},
     "output_type": "execute_result"
    }
   ],
   "source": [
    "df_first_innings.mean()"
   ]
  },
  {
   "cell_type": "code",
   "execution_count": 13,
   "id": "0d1e5b48",
   "metadata": {},
   "outputs": [],
   "source": [
    "df_second_innings = df.loc[df['Inns']==2][['runs']]"
   ]
  },
  {
   "cell_type": "code",
   "execution_count": 14,
   "id": "87b0321b",
   "metadata": {},
   "outputs": [
    {
     "data": {
      "text/plain": [
       "runs    40.173684\n",
       "dtype: float64"
      ]
     },
     "execution_count": 14,
     "metadata": {},
     "output_type": "execute_result"
    }
   ],
   "source": [
    "df_second_innings.mean()"
   ]
  },
  {
   "cell_type": "code",
   "execution_count": 15,
   "id": "1d35def3",
   "metadata": {},
   "outputs": [],
   "source": [
    "# Is this difference significant or by chance?"
   ]
  },
  {
   "cell_type": "markdown",
   "id": "85d7c784",
   "metadata": {},
   "source": [
    "H0: mu1 = mu2,\n",
    "Ha: mu1 > mu2"
   ]
  },
  {
   "cell_type": "code",
   "execution_count": 17,
   "id": "e69fd1df",
   "metadata": {},
   "outputs": [],
   "source": [
    "t_stat,p_value =ttest_ind(df_first_innings,df_second_innings,alternative = 'greater')"
   ]
  },
  {
   "cell_type": "code",
   "execution_count": 18,
   "id": "568250dc",
   "metadata": {},
   "outputs": [
    {
     "data": {
      "text/plain": [
       "array([0.07241862])"
      ]
     },
     "execution_count": 18,
     "metadata": {},
     "output_type": "execute_result"
    }
   ],
   "source": [
    "p_value"
   ]
  },
  {
   "cell_type": "code",
   "execution_count": 19,
   "id": "ba931770",
   "metadata": {},
   "outputs": [],
   "source": [
    "alpha = 0.05"
   ]
  },
  {
   "cell_type": "code",
   "execution_count": 20,
   "id": "6a6a1f07",
   "metadata": {},
   "outputs": [
    {
     "name": "stdout",
     "output_type": "stream",
     "text": [
      "Fail to Reject H0\n"
     ]
    }
   ],
   "source": [
    "if p_value < alpha:\n",
    "    print('Reject H0')\n",
    "else:\n",
    "    print('Fail to Reject H0')"
   ]
  },
  {
   "cell_type": "markdown",
   "id": "3422310a",
   "metadata": {},
   "source": [
    "# Victory vs Lose"
   ]
  },
  {
   "cell_type": "code",
   "execution_count": 26,
   "id": "3f4c56c7",
   "metadata": {},
   "outputs": [],
   "source": [
    "df_won = df.loc[df['Won']==True][['runs']]"
   ]
  },
  {
   "cell_type": "code",
   "execution_count": 31,
   "id": "d3101ad1",
   "metadata": {},
   "outputs": [],
   "source": [
    "df_loss = df.loc[df['Won']==False][['runs']]"
   ]
  },
  {
   "cell_type": "markdown",
   "id": "b27b44fb",
   "metadata": {},
   "source": [
    "H0: mu1 = mu2 ,\n",
    "Ha: mu1 > mu2"
   ]
  },
  {
   "cell_type": "code",
   "execution_count": 32,
   "id": "0fdfe023",
   "metadata": {},
   "outputs": [],
   "source": [
    "t_stat,p_value =ttest_ind(df_won,df_loss,alternative = 'greater')"
   ]
  },
  {
   "cell_type": "code",
   "execution_count": 33,
   "id": "0832e095",
   "metadata": {},
   "outputs": [
    {
     "data": {
      "text/plain": [
       "array([0.00016353])"
      ]
     },
     "execution_count": 33,
     "metadata": {},
     "output_type": "execute_result"
    }
   ],
   "source": [
    "p_value"
   ]
  },
  {
   "cell_type": "code",
   "execution_count": 34,
   "id": "03312167",
   "metadata": {},
   "outputs": [
    {
     "name": "stdout",
     "output_type": "stream",
     "text": [
      "Reject H0\n"
     ]
    }
   ],
   "source": [
    "if p_value < alpha:\n",
    "    print('Reject H0')\n",
    "else:\n",
    "    print('Fail to Reject H0')"
   ]
  },
  {
   "cell_type": "markdown",
   "id": "193daafb",
   "metadata": {},
   "source": [
    "## Problems"
   ]
  },
  {
   "cell_type": "markdown",
   "id": "5da13653",
   "metadata": {},
   "source": [
    "The average no. of customers entering a store everyday is 500, with a std of 125.\n",
    "A marketing team claims to increase this number.\n",
    "After 70 days, it is seen that the average is 530.\n",
    "Test the claim of the marketing company at 95% confidence."
   ]
  },
  {
   "cell_type": "markdown",
   "id": "ba726690",
   "metadata": {},
   "source": [
    "H0: mu = 500,\n",
    "Ha: mu > 500"
   ]
  },
  {
   "cell_type": "code",
   "execution_count": 35,
   "id": "d0ade400",
   "metadata": {},
   "outputs": [],
   "source": [
    "alpha = 0.05"
   ]
  },
  {
   "cell_type": "code",
   "execution_count": 37,
   "id": "4ca72f89",
   "metadata": {},
   "outputs": [],
   "source": [
    "z_stat = (530-500)/(125/np.sqrt(70))"
   ]
  },
  {
   "cell_type": "code",
   "execution_count": 39,
   "id": "bd85aee5",
   "metadata": {},
   "outputs": [],
   "source": [
    "p_value = 1 - norm.cdf(z_stat)"
   ]
  },
  {
   "cell_type": "code",
   "execution_count": 40,
   "id": "4f9c64e3",
   "metadata": {},
   "outputs": [
    {
     "name": "stdout",
     "output_type": "stream",
     "text": [
      "Reject H0\n"
     ]
    }
   ],
   "source": [
    "if p_value < alpha:\n",
    "    print('Reject H0')\n",
    "else:\n",
    "    print('Fail to Reject H0')"
   ]
  },
  {
   "cell_type": "markdown",
   "id": "c9fc7227",
   "metadata": {},
   "source": [
    "A local football game sees 3.5 goals per match on average with std of 0.7 .\n",
    "A sample of 45 matches was taken.\n",
    "What should be the maximum average goals of these 45 matches such that we can continue to believe this statement that the population average is 3.5 goals at 10% significance?"
   ]
  },
  {
   "cell_type": "markdown",
   "id": "7768235e",
   "metadata": {},
   "source": [
    "H0: mu = 3.5,\n",
    "Ha: mu >3.5"
   ]
  },
  {
   "cell_type": "code",
   "execution_count": 41,
   "id": "d6684d7f",
   "metadata": {},
   "outputs": [],
   "source": [
    "z_critical = norm.ppf(0.90)"
   ]
  },
  {
   "cell_type": "code",
   "execution_count": 42,
   "id": "b7d64d8b",
   "metadata": {},
   "outputs": [
    {
     "data": {
      "text/plain": [
       "1.2815515655446004"
      ]
     },
     "execution_count": 42,
     "metadata": {},
     "output_type": "execute_result"
    }
   ],
   "source": [
    "z_critical"
   ]
  },
  {
   "cell_type": "code",
   "execution_count": 43,
   "id": "4a0ee2ad",
   "metadata": {},
   "outputs": [],
   "source": [
    "x = 3.5 + (z_critical * 0.7/np.sqrt(45))"
   ]
  },
  {
   "cell_type": "code",
   "execution_count": 44,
   "id": "c7b99f1a",
   "metadata": {},
   "outputs": [
    {
     "data": {
      "text/plain": [
       "3.633729699470687"
      ]
     },
     "execution_count": 44,
     "metadata": {},
     "output_type": "execute_result"
    }
   ],
   "source": [
    "x"
   ]
  },
  {
   "cell_type": "code",
   "execution_count": 45,
   "id": "20c56760",
   "metadata": {},
   "outputs": [],
   "source": [
    "# If it is less than 3.633 we will continue to believe."
   ]
  },
  {
   "cell_type": "markdown",
   "id": "bd0377ab",
   "metadata": {},
   "source": [
    " The no. of hours a student spends solving assessment problems across two batches are known.\n",
    " Test if one batch takes lesser time , significance of 5%"
   ]
  },
  {
   "cell_type": "code",
   "execution_count": 46,
   "id": "e38db938",
   "metadata": {},
   "outputs": [],
   "source": [
    "batch_1 = pd.Series([25,30,45,49,47,35,32,42])\n",
    "batch_2 = pd.Series([45,47,25,22,29,32,27,28,40,49,50,33])"
   ]
  },
  {
   "cell_type": "markdown",
   "id": "08a16243",
   "metadata": {},
   "source": [
    "H0: mu1 = mu2\n",
    "Ha: mu1 > mu2"
   ]
  },
  {
   "cell_type": "code",
   "execution_count": 48,
   "id": "85f49e0d",
   "metadata": {},
   "outputs": [
    {
     "data": {
      "text/plain": [
       "38.125"
      ]
     },
     "execution_count": 48,
     "metadata": {},
     "output_type": "execute_result"
    }
   ],
   "source": [
    "batch_1.mean()"
   ]
  },
  {
   "cell_type": "code",
   "execution_count": 49,
   "id": "936f0f7f",
   "metadata": {},
   "outputs": [
    {
     "data": {
      "text/plain": [
       "35.583333333333336"
      ]
     },
     "execution_count": 49,
     "metadata": {},
     "output_type": "execute_result"
    }
   ],
   "source": [
    "batch_2.mean()"
   ]
  },
  {
   "cell_type": "code",
   "execution_count": 50,
   "id": "d47f312d",
   "metadata": {},
   "outputs": [],
   "source": [
    "t_stat,p_value = ttest_ind(batch_1,batch_2,alternative = 'greater')"
   ]
  },
  {
   "cell_type": "code",
   "execution_count": 51,
   "id": "3497ceda",
   "metadata": {},
   "outputs": [
    {
     "name": "stdout",
     "output_type": "stream",
     "text": [
      "Fail to Reject H0\n"
     ]
    }
   ],
   "source": [
    "if p_value < alpha:\n",
    "    print('Reject H0')\n",
    "else:\n",
    "    print('Fail to Reject H0')"
   ]
  },
  {
   "cell_type": "markdown",
   "id": "ae240f3c",
   "metadata": {},
   "source": [
    "H0: mu1 = mu2\n",
    "Ha: mu1 > mu2"
   ]
  },
  {
   "cell_type": "markdown",
   "id": "ceb62982",
   "metadata": {},
   "source": [
    "There are 8 females and 12 males in a coaching class. After a practice test, the coach wants to know whether the average score of females is greater than the average score of males.\n",
    "\n",
    "Given data describes the scores of females and males. Check whether the assumption of the coach is significant or not at a 5% of significance level?\n"
   ]
  },
  {
   "cell_type": "code",
   "execution_count": 58,
   "id": "d8b909e5",
   "metadata": {},
   "outputs": [],
   "source": [
    "female_scores=pd.Series([25,30,45,49,47,35,32,42])\n",
    "\n",
    "male_scores=pd.Series([45,47,25,22,29,32,27,28,40,49,50,33])"
   ]
  },
  {
   "cell_type": "code",
   "execution_count": 59,
   "id": "08f500f9",
   "metadata": {},
   "outputs": [
    {
     "data": {
      "text/plain": [
       "38.125"
      ]
     },
     "execution_count": 59,
     "metadata": {},
     "output_type": "execute_result"
    }
   ],
   "source": [
    "female_scores.mean()"
   ]
  },
  {
   "cell_type": "code",
   "execution_count": 60,
   "id": "a3738592",
   "metadata": {},
   "outputs": [
    {
     "data": {
      "text/plain": [
       "35.583333333333336"
      ]
     },
     "execution_count": 60,
     "metadata": {},
     "output_type": "execute_result"
    }
   ],
   "source": [
    "male_scores.mean()"
   ]
  },
  {
   "cell_type": "markdown",
   "id": "562c451d",
   "metadata": {},
   "source": [
    "H0: mu1 = mu2,\n",
    "Ha: mu1 > mu2"
   ]
  },
  {
   "cell_type": "code",
   "execution_count": 61,
   "id": "b59736f7",
   "metadata": {},
   "outputs": [],
   "source": [
    "t_stat,p_value = ttest_ind(female_scores,male_scores,alternative = 'greater')"
   ]
  },
  {
   "cell_type": "code",
   "execution_count": 62,
   "id": "3d9adbac",
   "metadata": {},
   "outputs": [
    {
     "name": "stdout",
     "output_type": "stream",
     "text": [
      "Fail to Reject H0\n"
     ]
    }
   ],
   "source": [
    "if p_value < alpha:\n",
    "    print('Reject H0')\n",
    "else:\n",
    "    print('Fail to Reject H0')"
   ]
  },
  {
   "cell_type": "markdown",
   "id": "08b79f7c",
   "metadata": {},
   "source": [
    "An institution claims that the candidates who study there have more IQ than the average institution. When the IQ of 50 students was calculated, the average turned out to be 110.\n",
    "\n",
    "The mean of the population IQ is 100 and the standard deviation is 15. Find the validity of the claim with a significance level of 5%."
   ]
  },
  {
   "cell_type": "markdown",
   "id": "4a4df224",
   "metadata": {},
   "source": [
    "H0 : mu = 100\n",
    "Ha : mu > 100"
   ]
  },
  {
   "cell_type": "code",
   "execution_count": 66,
   "id": "1fb8b755",
   "metadata": {},
   "outputs": [],
   "source": [
    "alpha = 0.05"
   ]
  },
  {
   "cell_type": "code",
   "execution_count": 67,
   "id": "b3159b24",
   "metadata": {},
   "outputs": [],
   "source": [
    "z_stat = (110-100)/(15/np.sqrt(50))"
   ]
  },
  {
   "cell_type": "code",
   "execution_count": 68,
   "id": "f08bb34d",
   "metadata": {},
   "outputs": [],
   "source": [
    "p_value = 1- norm.cdf(z_stat)"
   ]
  },
  {
   "cell_type": "code",
   "execution_count": 69,
   "id": "0af8b3e9",
   "metadata": {},
   "outputs": [
    {
     "data": {
      "text/plain": [
       "1.2142337364462463e-06"
      ]
     },
     "execution_count": 69,
     "metadata": {},
     "output_type": "execute_result"
    }
   ],
   "source": [
    "p_value"
   ]
  },
  {
   "cell_type": "code",
   "execution_count": 70,
   "id": "5e809bf8",
   "metadata": {},
   "outputs": [
    {
     "name": "stdout",
     "output_type": "stream",
     "text": [
      "Reject H0\n"
     ]
    }
   ],
   "source": [
    "if p_value < alpha:\n",
    "    print('Reject H0')\n",
    "else:\n",
    "    print('Fail to Reject H0')"
   ]
  },
  {
   "cell_type": "markdown",
   "id": "279bd357",
   "metadata": {},
   "source": [
    "The quality assurance department claims that on average the non-fat milk contains more than 190 mg of Calcium per 500 ml packet.\n",
    "\n",
    "To check this claim 45 packets of milk are collected and the content of calcium is recorded. perform the appropriate test with 90% confidence.\n"
   ]
  },
  {
   "cell_type": "code",
   "execution_count": 78,
   "id": "d99f5de7",
   "metadata": {},
   "outputs": [],
   "source": [
    "data = pd.Series([193, 321, 222, 158, 176, 149, 154, 223, 233, 177, 280, 244, 138, 210, 167, 129, 254, 167, 194, 191, 128, 191, 144, 184, 330, 216, 212, 142, 216, 197, 231, 133, 205, 192, 195, 243, 224, 137, 234, 171, 176, 249, 222, 234, 191])"
   ]
  },
  {
   "cell_type": "code",
   "execution_count": 79,
   "id": "9880c017",
   "metadata": {},
   "outputs": [],
   "source": [
    "alpha = 0.1"
   ]
  },
  {
   "cell_type": "code",
   "execution_count": 80,
   "id": "b01c4cea",
   "metadata": {},
   "outputs": [],
   "source": [
    "t_stat,p_value = ttest_1samp(data,190)"
   ]
  },
  {
   "cell_type": "code",
   "execution_count": 81,
   "id": "39265f42",
   "metadata": {},
   "outputs": [
    {
     "data": {
      "text/plain": [
       "0.17797783112301213"
      ]
     },
     "execution_count": 81,
     "metadata": {},
     "output_type": "execute_result"
    }
   ],
   "source": [
    "p_value"
   ]
  },
  {
   "cell_type": "code",
   "execution_count": 82,
   "id": "c3bbd4fd",
   "metadata": {},
   "outputs": [
    {
     "name": "stdout",
     "output_type": "stream",
     "text": [
      "Fail to Reject H0\n"
     ]
    }
   ],
   "source": [
    "if p_value < alpha:\n",
    "    print('Reject H0')\n",
    "else:\n",
    "    print('Fail to Reject H0')"
   ]
  },
  {
   "cell_type": "markdown",
   "id": "1ea77219",
   "metadata": {},
   "source": [
    "When smokers smoke, nicotine is transformed into cotinine, which can be tested.\n",
    "\n",
    "The average cotinine level in a group of 50 smokers was 243.5 ng ml.\n",
    "\n",
    "Assuming that the standard deviation is known to be 229.5 ng ml, at 95 % confidence, test the assertion that the mean cotinine level of all smokers is equal to 300.0 ng ml."
   ]
  },
  {
   "cell_type": "code",
   "execution_count": 83,
   "id": "e7b1844c",
   "metadata": {},
   "outputs": [],
   "source": [
    "z_stat = (300.0-243.5)/(229.5/np.sqrt(50))"
   ]
  },
  {
   "cell_type": "code",
   "execution_count": 84,
   "id": "79796579",
   "metadata": {},
   "outputs": [
    {
     "data": {
      "text/plain": [
       "0.9591413404242518"
      ]
     },
     "execution_count": 84,
     "metadata": {},
     "output_type": "execute_result"
    }
   ],
   "source": [
    "norm.cdf(z_stat)"
   ]
  },
  {
   "cell_type": "code",
   "execution_count": null,
   "id": "b290bb35",
   "metadata": {},
   "outputs": [],
   "source": []
  }
 ],
 "metadata": {
  "kernelspec": {
   "display_name": "Python 3 (ipykernel)",
   "language": "python",
   "name": "python3"
  },
  "language_info": {
   "codemirror_mode": {
    "name": "ipython",
    "version": 3
   },
   "file_extension": ".py",
   "mimetype": "text/x-python",
   "name": "python",
   "nbconvert_exporter": "python",
   "pygments_lexer": "ipython3",
   "version": "3.11.2"
  }
 },
 "nbformat": 4,
 "nbformat_minor": 5
}
